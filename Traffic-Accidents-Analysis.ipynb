{
 "cells": [
  {
   "cell_type": "markdown",
   "metadata": {},
   "source": [
    "<h1>Traffic Accidents Analysis</h1>\n",
    "<p>\n",
    "This notebook will be used for the capstone project for the Applied Data Science course on Coursera.\n",
    "</p>\n",
    "<p>\n",
    "In this project we aim to explore various factors defining the accidents severity, as well as build a model, quantifying the strength of the relationship between the accidents severity and the factors.\n",
    "</p>"
   ]
  },
  {
   "cell_type": "markdown",
   "metadata": {},
   "source": [
    "<h4>Week 1 assignment:</h4>\n",
    "<ol>\n",
    "<li>Write some markdown to explain that this notebook will be mainly used for the capstone project.\n",
    "<li>Import the pandas library as pd.\n",
    "<li>Import the Numpy library as np.\n",
    "<li>Print the following the statement: Hello Capstone Project Course!\n",
    "</ol>"
   ]
  },
  {
   "cell_type": "code",
   "execution_count": 1,
   "metadata": {},
   "outputs": [
    {
     "name": "stdout",
     "output_type": "stream",
     "text": [
      "Hello Capstone Project Course!\n"
     ]
    }
   ],
   "source": [
    "import pandas as pd\n",
    "import numpy as np\n",
    "print('Hello Capstone Project Course!')"
   ]
  }
 ],
 "metadata": {
  "kernelspec": {
   "display_name": "Python 3",
   "language": "python",
   "name": "python3"
  },
  "language_info": {
   "codemirror_mode": {
    "name": "ipython",
    "version": 3
   },
   "file_extension": ".py",
   "mimetype": "text/x-python",
   "name": "python",
   "nbconvert_exporter": "python",
   "pygments_lexer": "ipython3",
   "version": "3.8.2"
  }
 },
 "nbformat": 4,
 "nbformat_minor": 4
}
